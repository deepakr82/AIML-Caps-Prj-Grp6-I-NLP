{
  "nbformat": 4,
  "nbformat_minor": 0,
  "metadata": {
    "colab": {
      "name": "NLP_Capstone_IT Ticket assignment.ipynb",
      "provenance": [],
      "collapsed_sections": [],
      "authorship_tag": "ABX9TyN1Bf/SrAYZhLTuEjWF3+NX",
      "include_colab_link": true
    },
    "kernelspec": {
      "name": "python3",
      "display_name": "Python 3"
    }
  },
  "cells": [
    {
      "cell_type": "markdown",
      "metadata": {
        "id": "view-in-github",
        "colab_type": "text"
      },
      "source": [
        "<a href=\"https://colab.research.google.com/github/deepakr82/AIML-Caps-Prj-Grp6-I-NLP/blob/master/NLP_Capstone_IT_Ticket_assignment.ipynb\" target=\"_parent\"><img src=\"https://colab.research.google.com/assets/colab-badge.svg\" alt=\"Open In Colab\"/></a>"
      ]
    },
    {
      "cell_type": "markdown",
      "metadata": {
        "id": "UBZTj83U7i3L",
        "colab_type": "text"
      },
      "source": [
        "AIML Online Capstone - AUTOMATIC TICKET ASSIGNMENT"
      ]
    },
    {
      "cell_type": "code",
      "metadata": {
        "id": "-jaAJWJL7CBp",
        "colab_type": "code",
        "colab": {
          "base_uri": "https://localhost:8080/",
          "height": 34
        },
        "outputId": "fffab5c4-978b-4eea-9898-5d601bfba806"
      },
      "source": [
        "# Mount Google Drive\n",
        "from google.colab import drive\n",
        "drive.mount('/content/drive/')"
      ],
      "execution_count": 1,
      "outputs": [
        {
          "output_type": "stream",
          "text": [
            "Drive already mounted at /content/drive/; to attempt to forcibly remount, call drive.mount(\"/content/drive/\", force_remount=True).\n"
          ],
          "name": "stdout"
        }
      ]
    },
    {
      "cell_type": "markdown",
      "metadata": {
        "id": "GhqwRdKM9I6A",
        "colab_type": "text"
      },
      "source": [
        "# Load data and Pre-processing\n"
      ]
    },
    {
      "cell_type": "code",
      "metadata": {
        "id": "HCxA7gca9Zmx",
        "colab_type": "code",
        "colab": {}
      },
      "source": [
        "import pandas as pd \n",
        "import numpy as np\n",
        "import sys"
      ],
      "execution_count": 1,
      "outputs": []
    },
    {
      "cell_type": "code",
      "metadata": {
        "id": "0uNE4vqU9iE_",
        "colab_type": "code",
        "colab": {}
      },
      "source": [
        "# Read the .csv file\n",
        "Ticket = pd.read_excel('/content/drive/My Drive/AIML/NLP/input_data.xlsx',encoding=sys.getfilesystemencoding())"
      ],
      "execution_count": 2,
      "outputs": []
    },
    {
      "cell_type": "code",
      "metadata": {
        "id": "369466fl9yYI",
        "colab_type": "code",
        "colab": {
          "base_uri": "https://localhost:8080/",
          "height": 204
        },
        "outputId": "9b917175-5b7f-4271-dce8-39aafb90a3d1"
      },
      "source": [
        "Ticket.head()"
      ],
      "execution_count": 3,
      "outputs": [
        {
          "output_type": "execute_result",
          "data": {
            "text/html": [
              "<div>\n",
              "<style scoped>\n",
              "    .dataframe tbody tr th:only-of-type {\n",
              "        vertical-align: middle;\n",
              "    }\n",
              "\n",
              "    .dataframe tbody tr th {\n",
              "        vertical-align: top;\n",
              "    }\n",
              "\n",
              "    .dataframe thead th {\n",
              "        text-align: right;\n",
              "    }\n",
              "</style>\n",
              "<table border=\"1\" class=\"dataframe\">\n",
              "  <thead>\n",
              "    <tr style=\"text-align: right;\">\n",
              "      <th></th>\n",
              "      <th>Short description</th>\n",
              "      <th>Description</th>\n",
              "      <th>Caller</th>\n",
              "      <th>Assignment group</th>\n",
              "    </tr>\n",
              "  </thead>\n",
              "  <tbody>\n",
              "    <tr>\n",
              "      <th>0</th>\n",
              "      <td>login issue</td>\n",
              "      <td>-verified user details.(employee# &amp; manager na...</td>\n",
              "      <td>spxjnwir pjlcoqds</td>\n",
              "      <td>GRP_0</td>\n",
              "    </tr>\n",
              "    <tr>\n",
              "      <th>1</th>\n",
              "      <td>outlook</td>\n",
              "      <td>\\r\\n\\r\\nreceived from: hmjdrvpb.komuaywn@gmail...</td>\n",
              "      <td>hmjdrvpb komuaywn</td>\n",
              "      <td>GRP_0</td>\n",
              "    </tr>\n",
              "    <tr>\n",
              "      <th>2</th>\n",
              "      <td>cant log in to vpn</td>\n",
              "      <td>\\r\\n\\r\\nreceived from: eylqgodm.ybqkwiam@gmail...</td>\n",
              "      <td>eylqgodm ybqkwiam</td>\n",
              "      <td>GRP_0</td>\n",
              "    </tr>\n",
              "    <tr>\n",
              "      <th>3</th>\n",
              "      <td>unable to access hr_tool page</td>\n",
              "      <td>unable to access hr_tool page</td>\n",
              "      <td>xbkucsvz gcpydteq</td>\n",
              "      <td>GRP_0</td>\n",
              "    </tr>\n",
              "    <tr>\n",
              "      <th>4</th>\n",
              "      <td>skype error</td>\n",
              "      <td>skype error</td>\n",
              "      <td>owlgqjme qhcozdfx</td>\n",
              "      <td>GRP_0</td>\n",
              "    </tr>\n",
              "  </tbody>\n",
              "</table>\n",
              "</div>"
            ],
            "text/plain": [
              "               Short description  ... Assignment group\n",
              "0                    login issue  ...            GRP_0\n",
              "1                        outlook  ...            GRP_0\n",
              "2             cant log in to vpn  ...            GRP_0\n",
              "3  unable to access hr_tool page  ...            GRP_0\n",
              "4                   skype error   ...            GRP_0\n",
              "\n",
              "[5 rows x 4 columns]"
            ]
          },
          "metadata": {
            "tags": []
          },
          "execution_count": 3
        }
      ]
    },
    {
      "cell_type": "code",
      "metadata": {
        "id": "XtYQWRYnS-n5",
        "colab_type": "code",
        "colab": {
          "base_uri": "https://localhost:8080/",
          "height": 204
        },
        "outputId": "90771da3-331a-46ef-b3e8-717e46986c72"
      },
      "source": [
        "Ticket.drop(columns='Caller',inplace=True)\n",
        "Ticket.head()"
      ],
      "execution_count": 4,
      "outputs": [
        {
          "output_type": "execute_result",
          "data": {
            "text/html": [
              "<div>\n",
              "<style scoped>\n",
              "    .dataframe tbody tr th:only-of-type {\n",
              "        vertical-align: middle;\n",
              "    }\n",
              "\n",
              "    .dataframe tbody tr th {\n",
              "        vertical-align: top;\n",
              "    }\n",
              "\n",
              "    .dataframe thead th {\n",
              "        text-align: right;\n",
              "    }\n",
              "</style>\n",
              "<table border=\"1\" class=\"dataframe\">\n",
              "  <thead>\n",
              "    <tr style=\"text-align: right;\">\n",
              "      <th></th>\n",
              "      <th>Short description</th>\n",
              "      <th>Description</th>\n",
              "      <th>Assignment group</th>\n",
              "    </tr>\n",
              "  </thead>\n",
              "  <tbody>\n",
              "    <tr>\n",
              "      <th>0</th>\n",
              "      <td>login issue</td>\n",
              "      <td>-verified user details.(employee# &amp; manager na...</td>\n",
              "      <td>GRP_0</td>\n",
              "    </tr>\n",
              "    <tr>\n",
              "      <th>1</th>\n",
              "      <td>outlook</td>\n",
              "      <td>\\r\\n\\r\\nreceived from: hmjdrvpb.komuaywn@gmail...</td>\n",
              "      <td>GRP_0</td>\n",
              "    </tr>\n",
              "    <tr>\n",
              "      <th>2</th>\n",
              "      <td>cant log in to vpn</td>\n",
              "      <td>\\r\\n\\r\\nreceived from: eylqgodm.ybqkwiam@gmail...</td>\n",
              "      <td>GRP_0</td>\n",
              "    </tr>\n",
              "    <tr>\n",
              "      <th>3</th>\n",
              "      <td>unable to access hr_tool page</td>\n",
              "      <td>unable to access hr_tool page</td>\n",
              "      <td>GRP_0</td>\n",
              "    </tr>\n",
              "    <tr>\n",
              "      <th>4</th>\n",
              "      <td>skype error</td>\n",
              "      <td>skype error</td>\n",
              "      <td>GRP_0</td>\n",
              "    </tr>\n",
              "  </tbody>\n",
              "</table>\n",
              "</div>"
            ],
            "text/plain": [
              "               Short description  ... Assignment group\n",
              "0                    login issue  ...            GRP_0\n",
              "1                        outlook  ...            GRP_0\n",
              "2             cant log in to vpn  ...            GRP_0\n",
              "3  unable to access hr_tool page  ...            GRP_0\n",
              "4                   skype error   ...            GRP_0\n",
              "\n",
              "[5 rows x 3 columns]"
            ]
          },
          "metadata": {
            "tags": []
          },
          "execution_count": 4
        }
      ]
    },
    {
      "cell_type": "code",
      "metadata": {
        "id": "MWNeoL9V-edW",
        "colab_type": "code",
        "colab": {
          "base_uri": "https://localhost:8080/",
          "height": 187
        },
        "outputId": "73f8bd12-de1f-4818-ca32-27b819ff4026"
      },
      "source": [
        "Ticket.info()"
      ],
      "execution_count": 5,
      "outputs": [
        {
          "output_type": "stream",
          "text": [
            "<class 'pandas.core.frame.DataFrame'>\n",
            "RangeIndex: 8500 entries, 0 to 8499\n",
            "Data columns (total 3 columns):\n",
            " #   Column             Non-Null Count  Dtype \n",
            "---  ------             --------------  ----- \n",
            " 0   Short description  8492 non-null   object\n",
            " 1   Description        8499 non-null   object\n",
            " 2   Assignment group   8500 non-null   object\n",
            "dtypes: object(3)\n",
            "memory usage: 199.3+ KB\n"
          ],
          "name": "stdout"
        }
      ]
    },
    {
      "cell_type": "code",
      "metadata": {
        "id": "MtKDYy6hTF6D",
        "colab_type": "code",
        "colab": {
          "base_uri": "https://localhost:8080/",
          "height": 187
        },
        "outputId": "0e80b414-771f-4c4d-9e1f-be316afe5518"
      },
      "source": [
        "#Check for Null and drop null rows - Since null count is less\n",
        "Ticket.isnull().sum()\n",
        "Ticket.dropna(inplace=True)\n",
        "Ticket.info()"
      ],
      "execution_count": 6,
      "outputs": [
        {
          "output_type": "stream",
          "text": [
            "<class 'pandas.core.frame.DataFrame'>\n",
            "Int64Index: 8491 entries, 0 to 8499\n",
            "Data columns (total 3 columns):\n",
            " #   Column             Non-Null Count  Dtype \n",
            "---  ------             --------------  ----- \n",
            " 0   Short description  8491 non-null   object\n",
            " 1   Description        8491 non-null   object\n",
            " 2   Assignment group   8491 non-null   object\n",
            "dtypes: object(3)\n",
            "memory usage: 265.3+ KB\n"
          ],
          "name": "stdout"
        }
      ]
    },
    {
      "cell_type": "code",
      "metadata": {
        "id": "P4oKummv-FwY",
        "colab_type": "code",
        "colab": {
          "base_uri": "https://localhost:8080/",
          "height": 173
        },
        "outputId": "602fc365-dbf3-4d70-8245-4d85e91fd2d5"
      },
      "source": [
        "Ticket.describe()"
      ],
      "execution_count": 7,
      "outputs": [
        {
          "output_type": "execute_result",
          "data": {
            "text/html": [
              "<div>\n",
              "<style scoped>\n",
              "    .dataframe tbody tr th:only-of-type {\n",
              "        vertical-align: middle;\n",
              "    }\n",
              "\n",
              "    .dataframe tbody tr th {\n",
              "        vertical-align: top;\n",
              "    }\n",
              "\n",
              "    .dataframe thead th {\n",
              "        text-align: right;\n",
              "    }\n",
              "</style>\n",
              "<table border=\"1\" class=\"dataframe\">\n",
              "  <thead>\n",
              "    <tr style=\"text-align: right;\">\n",
              "      <th></th>\n",
              "      <th>Short description</th>\n",
              "      <th>Description</th>\n",
              "      <th>Assignment group</th>\n",
              "    </tr>\n",
              "  </thead>\n",
              "  <tbody>\n",
              "    <tr>\n",
              "      <th>count</th>\n",
              "      <td>8491</td>\n",
              "      <td>8491</td>\n",
              "      <td>8491</td>\n",
              "    </tr>\n",
              "    <tr>\n",
              "      <th>unique</th>\n",
              "      <td>7480</td>\n",
              "      <td>7812</td>\n",
              "      <td>74</td>\n",
              "    </tr>\n",
              "    <tr>\n",
              "      <th>top</th>\n",
              "      <td>password reset</td>\n",
              "      <td>the</td>\n",
              "      <td>GRP_0</td>\n",
              "    </tr>\n",
              "    <tr>\n",
              "      <th>freq</th>\n",
              "      <td>38</td>\n",
              "      <td>56</td>\n",
              "      <td>3968</td>\n",
              "    </tr>\n",
              "  </tbody>\n",
              "</table>\n",
              "</div>"
            ],
            "text/plain": [
              "       Short description Description Assignment group\n",
              "count               8491        8491             8491\n",
              "unique              7480        7812               74\n",
              "top       password reset         the            GRP_0\n",
              "freq                  38          56             3968"
            ]
          },
          "metadata": {
            "tags": []
          },
          "execution_count": 7
        }
      ]
    },
    {
      "cell_type": "code",
      "metadata": {
        "id": "RTsgSqcp-Tvk",
        "colab_type": "code",
        "colab": {
          "base_uri": "https://localhost:8080/",
          "height": 170
        },
        "outputId": "c5dee784-96ae-4ea5-e12a-a64c2e4c7708"
      },
      "source": [
        "TargetClass = Ticket['Assignment group'].value_counts()\n",
        "TargetClass.describe()"
      ],
      "execution_count": 8,
      "outputs": [
        {
          "output_type": "execute_result",
          "data": {
            "text/plain": [
              "count      74.000000\n",
              "mean      114.743243\n",
              "std       464.840614\n",
              "min         1.000000\n",
              "25%         5.250000\n",
              "50%        26.000000\n",
              "75%        84.000000\n",
              "max      3968.000000\n",
              "Name: Assignment group, dtype: float64"
            ]
          },
          "metadata": {
            "tags": []
          },
          "execution_count": 8
        }
      ]
    },
    {
      "cell_type": "markdown",
      "metadata": {
        "id": "LWIUHwKA_fqg",
        "colab_type": "text"
      },
      "source": [
        "Observations:\n",
        "1. There are 74 Groups in all. The Target class distribution is extremely skewed.\n",
        "2. GRP_0 has the most number of assignments (3968) accounting for ~50% of the data.\n",
        "3. There are some groups with 1 ticket assignment as well."
      ]
    },
    {
      "cell_type": "markdown",
      "metadata": {
        "id": "kuGkzRkVUFC-",
        "colab_type": "text"
      },
      "source": [
        "## Option 1 - Use data as is with some groups having less ticket assignments"
      ]
    },
    {
      "cell_type": "code",
      "metadata": {
        "id": "3mM1Umdm_eSe",
        "colab_type": "code",
        "colab": {
          "base_uri": "https://localhost:8080/",
          "height": 429
        },
        "outputId": "92077095-3e21-4039-bb9f-968a1837b624"
      },
      "source": [
        "## Data Visualization\n",
        "import seaborn as sns\n",
        "import matplotlib.pyplot as plt\n",
        "%matplotlib inline\n",
        "\n",
        "plt.subplots(figsize = (20,5))\n",
        "\n",
        "sns.countplot(x='Assignment group', data=Ticket,order = Ticket['Assignment group'].value_counts().index)\n",
        "plt.xlabel('Assignment Group') \n",
        "plt.ylabel('Count') \n",
        "plt.xticks(rotation=45)\n",
        "plt.title('Tickets Distribution')\n",
        "\n",
        "plt.show()"
      ],
      "execution_count": 9,
      "outputs": [
        {
          "output_type": "stream",
          "text": [
            "/usr/local/lib/python3.6/dist-packages/statsmodels/tools/_testing.py:19: FutureWarning: pandas.util.testing is deprecated. Use the functions in the public API at pandas.testing instead.\n",
            "  import pandas.util.testing as tm\n"
          ],
          "name": "stderr"
        },
        {
          "output_type": "display_data",
          "data": {
            "image/png": "[encoded data removed]",
            "text/plain": [
              "<Figure size 1440x360 with 1 Axes>"
            ]
          },
          "metadata": {
            "tags": [],
            "needs_background": "light"
          }
        }
      ]
    },
    {
      "cell_type": "markdown",
      "metadata": {
        "id": "8W4rMIH1UPVN",
        "colab_type": "text"
      },
      "source": [
        "## Option 2 -  Merge groups with small entries to a group to reduce the imbalance in the target class."
      ]
    },
    {
      "cell_type": "code",
      "metadata": {
        "id": "gl0af22LVNfV",
        "colab_type": "code",
        "colab": {
          "base_uri": "https://localhost:8080/",
          "height": 117
        },
        "outputId": "3f875535-8dc8-408a-8b55-7f903509e1d8"
      },
      "source": [
        "# Group the tickets count < 25 as GRP_A\n",
        "Ticket1 = pd.DataFrame(Ticket['Assignment group'].value_counts())\n",
        "Ticket1 = Ticket1.T\n",
        "Ticket1"
      ],
      "execution_count": 10,
      "outputs": [
        {
          "output_type": "execute_result",
          "data": {
            "text/html": [
              "<div>\n",
              "<style scoped>\n",
              "    .dataframe tbody tr th:only-of-type {\n",
              "        vertical-align: middle;\n",
              "    }\n",
              "\n",
              "    .dataframe tbody tr th {\n",
              "        vertical-align: top;\n",
              "    }\n",
              "\n",
              "    .dataframe thead th {\n",
              "        text-align: right;\n",
              "    }\n",
              "</style>\n",
              "<table border=\"1\" class=\"dataframe\">\n",
              "  <thead>\n",
              "    <tr style=\"text-align: right;\">\n",
              "      <th></th>\n",
              "      <th>GRP_0</th>\n",
              "      <th>GRP_8</th>\n",
              "      <th>GRP_24</th>\n",
              "      <th>GRP_12</th>\n",
              "      <th>GRP_9</th>\n",
              "      <th>GRP_2</th>\n",
              "      <th>GRP_19</th>\n",
              "      <th>GRP_3</th>\n",
              "      <th>GRP_6</th>\n",
              "      <th>GRP_13</th>\n",
              "      <th>GRP_10</th>\n",
              "      <th>GRP_5</th>\n",
              "      <th>GRP_14</th>\n",
              "      <th>GRP_25</th>\n",
              "      <th>GRP_33</th>\n",
              "      <th>GRP_4</th>\n",
              "      <th>GRP_29</th>\n",
              "      <th>GRP_18</th>\n",
              "      <th>GRP_16</th>\n",
              "      <th>GRP_17</th>\n",
              "      <th>GRP_31</th>\n",
              "      <th>GRP_7</th>\n",
              "      <th>GRP_34</th>\n",
              "      <th>GRP_26</th>\n",
              "      <th>GRP_40</th>\n",
              "      <th>GRP_28</th>\n",
              "      <th>GRP_41</th>\n",
              "      <th>GRP_30</th>\n",
              "      <th>GRP_15</th>\n",
              "      <th>GRP_42</th>\n",
              "      <th>GRP_20</th>\n",
              "      <th>GRP_45</th>\n",
              "      <th>GRP_22</th>\n",
              "      <th>GRP_1</th>\n",
              "      <th>GRP_11</th>\n",
              "      <th>GRP_21</th>\n",
              "      <th>GRP_47</th>\n",
              "      <th>GRP_23</th>\n",
              "      <th>GRP_48</th>\n",
              "      <th>GRP_62</th>\n",
              "      <th>GRP_60</th>\n",
              "      <th>GRP_39</th>\n",
              "      <th>GRP_27</th>\n",
              "      <th>GRP_37</th>\n",
              "      <th>GRP_36</th>\n",
              "      <th>GRP_44</th>\n",
              "      <th>GRP_50</th>\n",
              "      <th>GRP_65</th>\n",
              "      <th>GRP_53</th>\n",
              "      <th>GRP_52</th>\n",
              "      <th>GRP_55</th>\n",
              "      <th>GRP_51</th>\n",
              "      <th>GRP_49</th>\n",
              "      <th>GRP_46</th>\n",
              "      <th>GRP_59</th>\n",
              "      <th>GRP_43</th>\n",
              "      <th>GRP_66</th>\n",
              "      <th>GRP_32</th>\n",
              "      <th>GRP_58</th>\n",
              "      <th>GRP_63</th>\n",
              "      <th>GRP_38</th>\n",
              "      <th>GRP_56</th>\n",
              "      <th>GRP_68</th>\n",
              "      <th>GRP_71</th>\n",
              "      <th>GRP_69</th>\n",
              "      <th>GRP_72</th>\n",
              "      <th>GRP_54</th>\n",
              "      <th>GRP_57</th>\n",
              "      <th>GRP_67</th>\n",
              "      <th>GRP_70</th>\n",
              "      <th>GRP_35</th>\n",
              "      <th>GRP_73</th>\n",
              "      <th>GRP_64</th>\n",
              "      <th>GRP_61</th>\n",
              "    </tr>\n",
              "  </thead>\n",
              "  <tbody>\n",
              "    <tr>\n",
              "      <th>Assignment group</th>\n",
              "      <td>3968</td>\n",
              "      <td>661</td>\n",
              "      <td>289</td>\n",
              "      <td>257</td>\n",
              "      <td>252</td>\n",
              "      <td>241</td>\n",
              "      <td>215</td>\n",
              "      <td>200</td>\n",
              "      <td>184</td>\n",
              "      <td>145</td>\n",
              "      <td>140</td>\n",
              "      <td>129</td>\n",
              "      <td>118</td>\n",
              "      <td>116</td>\n",
              "      <td>107</td>\n",
              "      <td>100</td>\n",
              "      <td>97</td>\n",
              "      <td>88</td>\n",
              "      <td>85</td>\n",
              "      <td>81</td>\n",
              "      <td>69</td>\n",
              "      <td>68</td>\n",
              "      <td>61</td>\n",
              "      <td>56</td>\n",
              "      <td>45</td>\n",
              "      <td>44</td>\n",
              "      <td>40</td>\n",
              "      <td>39</td>\n",
              "      <td>39</td>\n",
              "      <td>37</td>\n",
              "      <td>36</td>\n",
              "      <td>35</td>\n",
              "      <td>31</td>\n",
              "      <td>31</td>\n",
              "      <td>30</td>\n",
              "      <td>29</td>\n",
              "      <td>27</td>\n",
              "      <td>25</td>\n",
              "      <td>25</td>\n",
              "      <td>25</td>\n",
              "      <td>20</td>\n",
              "      <td>19</td>\n",
              "      <td>18</td>\n",
              "      <td>16</td>\n",
              "      <td>15</td>\n",
              "      <td>15</td>\n",
              "      <td>14</td>\n",
              "      <td>11</td>\n",
              "      <td>11</td>\n",
              "      <td>9</td>\n",
              "      <td>8</td>\n",
              "      <td>8</td>\n",
              "      <td>6</td>\n",
              "      <td>6</td>\n",
              "      <td>6</td>\n",
              "      <td>5</td>\n",
              "      <td>4</td>\n",
              "      <td>4</td>\n",
              "      <td>3</td>\n",
              "      <td>3</td>\n",
              "      <td>3</td>\n",
              "      <td>3</td>\n",
              "      <td>3</td>\n",
              "      <td>2</td>\n",
              "      <td>2</td>\n",
              "      <td>2</td>\n",
              "      <td>2</td>\n",
              "      <td>2</td>\n",
              "      <td>1</td>\n",
              "      <td>1</td>\n",
              "      <td>1</td>\n",
              "      <td>1</td>\n",
              "      <td>1</td>\n",
              "      <td>1</td>\n",
              "    </tr>\n",
              "  </tbody>\n",
              "</table>\n",
              "</div>"
            ],
            "text/plain": [
              "                  GRP_0  GRP_8  GRP_24  GRP_12  ...  GRP_35  GRP_73  GRP_64  GRP_61\n",
              "Assignment group   3968    661     289     257  ...       1       1       1       1\n",
              "\n",
              "[1 rows x 74 columns]"
            ]
          },
          "metadata": {
            "tags": []
          },
          "execution_count": 10
        }
      ]
    },
    {
      "cell_type": "code",
      "metadata": {
        "id": "dHr7O4pzVOhq",
        "colab_type": "code",
        "colab": {}
      },
      "source": [
        "Ticket['Count'] = Ticket.apply(lambda row: Ticket1[row['Assignment group']] , axis=1)\n",
        "Ticket.loc[Ticket['Count'] <= 25 , \"Assignment group\"] = \"GRP_A\""
      ],
      "execution_count": 11,
      "outputs": []
    },
    {
      "cell_type": "code",
      "metadata": {
        "id": "R8nvnGoCaUGY",
        "colab_type": "code",
        "colab": {
          "base_uri": "https://localhost:8080/",
          "height": 375
        },
        "outputId": "9110e79d-d2e4-470d-f8af-ec2783dcf063"
      },
      "source": [
        "plt.subplots(figsize = (20,5))\n",
        "\n",
        "sns.countplot(x='Assignment group', data=Ticket,order = Ticket['Assignment group'].value_counts().index)\n",
        "plt.xlabel('Assignment Group') \n",
        "plt.ylabel('Count') \n",
        "plt.xticks(rotation=45)\n",
        "plt.title('Tickets Distribution - With GRP_A')\n",
        "\n",
        "plt.show()"
      ],
      "execution_count": 12,
      "outputs": [
        {
          "output_type": "display_data",
          "data": {
            "image/png": "[encoded data removed]",
            "text/plain": [
              "<Figure size 1440x360 with 1 Axes>"
            ]
          },
          "metadata": {
            "tags": [],
            "needs_background": "light"
          }
        }
      ]
    },
    {
      "cell_type": "markdown",
      "metadata": {
        "id": "WVUZYZlZdDZw",
        "colab_type": "text"
      },
      "source": [
        "# Data Cleansing"
      ]
    },
    {
      "cell_type": "code",
      "metadata": {
        "id": "wAEbIJAedHWB",
        "colab_type": "code",
        "colab": {}
      },
      "source": [
        "import nltk\n",
        "import re\n",
        "from nltk.stem import WordNetLemmatizer\n",
        "from nltk.corpus import wordnet\n",
        "from nltk.corpus import stopwords"
      ],
      "execution_count": 13,
      "outputs": []
    },
    {
      "cell_type": "code",
      "metadata": {
        "id": "DTfpqUmL3iSa",
        "colab_type": "code",
        "colab": {
          "base_uri": "https://localhost:8080/",
          "height": 204
        },
        "outputId": "6dfc0627-c996-4920-fb32-3f542ba491e5"
      },
      "source": [
        "nltk.download('stopwords')\n",
        "stop = set(stopwords.words('english')) \n",
        "nltk.download('punkt')\n",
        "nltk.download('averaged_perceptron_tagger')\n",
        "nltk.download('wordnet')"
      ],
      "execution_count": 14,
      "outputs": [
        {
          "output_type": "stream",
          "text": [
            "[nltk_data] Downloading package stopwords to /root/nltk_data...\n",
            "[nltk_data]   Package stopwords is already up-to-date!\n",
            "[nltk_data] Downloading package punkt to /root/nltk_data...\n",
            "[nltk_data]   Package punkt is already up-to-date!\n",
            "[nltk_data] Downloading package averaged_perceptron_tagger to\n",
            "[nltk_data]     /root/nltk_data...\n",
            "[nltk_data]   Package averaged_perceptron_tagger is already up-to-\n",
            "[nltk_data]       date!\n",
            "[nltk_data] Downloading package wordnet to /root/nltk_data...\n",
            "[nltk_data]   Package wordnet is already up-to-date!\n"
          ],
          "name": "stdout"
        },
        {
          "output_type": "execute_result",
          "data": {
            "text/plain": [
              "True"
            ]
          },
          "metadata": {
            "tags": []
          },
          "execution_count": 14
        }
      ]
    },
    {
      "cell_type": "code",
      "metadata": {
        "id": "kw-OtuiC3A_F",
        "colab_type": "code",
        "colab": {}
      },
      "source": [
        "lemmatizer = WordNetLemmatizer()"
      ],
      "execution_count": 15,
      "outputs": []
    },
    {
      "cell_type": "code",
      "metadata": {
        "id": "tnhK6NBI3GM2",
        "colab_type": "code",
        "colab": {}
      },
      "source": [
        "# function to convert nltk tag to wordnet tag\n",
        "def nltk_tag_to_wordnet_tag(nltk_tag):\n",
        "    if nltk_tag.startswith('J'):\n",
        "        return wordnet.ADJ\n",
        "    elif nltk_tag.startswith('V'):\n",
        "        return wordnet.VERB\n",
        "    elif nltk_tag.startswith('N'):\n",
        "        return wordnet.NOUN\n",
        "    elif nltk_tag.startswith('R'):\n",
        "        return wordnet.ADV\n",
        "    else:          \n",
        "        return None"
      ],
      "execution_count": 16,
      "outputs": []
    },
    {
      "cell_type": "code",
      "metadata": {
        "id": "0xFbiidp3LZS",
        "colab_type": "code",
        "colab": {}
      },
      "source": [
        "def lemmatize_sentence(sentence):\n",
        "    #tokenize the sentence and find the POS tag for each token\n",
        "    nltk_tagged = nltk.pos_tag(nltk.word_tokenize(sentence))  \n",
        "    #tuple of (token, wordnet_tag)\n",
        "    wordnet_tagged = map(lambda x: (x[0], nltk_tag_to_wordnet_tag(x[1])), nltk_tagged)\n",
        "    lemmatized_sentence = []\n",
        "    for word, tag in wordnet_tagged:\n",
        "        if tag is None:\n",
        "            #if there is no available tag, append the token as is\n",
        "            lemmatized_sentence.append(word)\n",
        "        else:        \n",
        "            #else use the tag to lemmatize the token\n",
        "            lemmatized_sentence.append(lemmatizer.lemmatize(word, tag))\n",
        "    return \" \".join(lemmatized_sentence)"
      ],
      "execution_count": 17,
      "outputs": []
    },
    {
      "cell_type": "code",
      "metadata": {
        "id": "KM6oi8am3N-n",
        "colab_type": "code",
        "colab": {}
      },
      "source": [
        "temp =[]\n",
        "for sentence in Ticket[\"Description\"]:\n",
        "    sentence = sentence.lower()\n",
        "    #sentence = sentence.str.replace('\\d+', '')\n",
        "    cleanr = re.compile('<.*?>')\n",
        "    sentence = re.sub(cleanr, ' ', sentence)        #Removing HTML tags\n",
        "    sentence = re.sub(r'\\S+@\\S+', 'EmailId', sentence)\n",
        "    sentence = re.sub(r'\\'', '', sentence, re.I|re.A)\n",
        "    sentence = re.sub(r'[0-9]', '', sentence, re.I|re.A)\n",
        "    sentence = re.sub(r'[^a-zA-Z0-9\\s]', ' ', sentence)\n",
        "    sentence = sentence.lower()\n",
        "    sentence = re.sub(r'com ', ' ', sentence, re.I|re.A)\n",
        "    sentence = re.sub(r'hello ', ' ', sentence, re.I|re.A)\n",
        "    l_sentence = lemmatize_sentence(sentence)\n",
        "\n",
        "    words = [word for word in l_sentence.split() if word not in stopwords.words('english')]\n",
        "    temp.append(words)"
      ],
      "execution_count": 18,
      "outputs": []
    },
    {
      "cell_type": "code",
      "metadata": {
        "id": "Av58LTEt3_IP",
        "colab_type": "code",
        "colab": {}
      },
      "source": [
        "Ticket[\"Lemmatized_clean\"] = temp"
      ],
      "execution_count": 20,
      "outputs": []
    },
    {
      "cell_type": "code",
      "metadata": {
        "id": "B1hUyhOB4KII",
        "colab_type": "code",
        "colab": {}
      },
      "source": [
        "Ticket2 = Ticket[Ticket['Lemmatized_clean'].map(lambda d: len(d)) > 0]"
      ],
      "execution_count": 21,
      "outputs": []
    },
    {
      "cell_type": "code",
      "metadata": {
        "id": "heKsNgpU7KtN",
        "colab_type": "code",
        "colab": {}
      },
      "source": [
        ""
      ],
      "execution_count": null,
      "outputs": []
    }
  ]
}